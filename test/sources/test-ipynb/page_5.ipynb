{
 "cells": [
  {
   "cell_type": "markdown",
   "metadata": {},
   "source": [
    "# Page 5"
   ]
  },
  {
   "cell_type": "raw",
   "metadata": {
    "raw_mimetype": "text/restructuredtext",
    "tags":[]
   },
   "source": [
    ".. tags:: \n",
    "\n",
    "   tag_1, tag_5, \n",
    "   tag2, \n",
    "   tag 3, [{(tag   4)}]"
   ]
  }
 ],
 "metadata": {
  "language_info": {
   "name": "python"
  }
 },
 "nbformat": 4,
 "nbformat_minor": 2
}
